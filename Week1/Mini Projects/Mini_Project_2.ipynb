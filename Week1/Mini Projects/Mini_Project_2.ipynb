{
  "nbformat": 4,
  "nbformat_minor": 0,
  "metadata": {
    "colab": {
      "provenance": []
    },
    "kernelspec": {
      "name": "python3",
      "display_name": "Python 3"
    },
    "language_info": {
      "name": "python"
    }
  },
  "cells": [
    {
      "cell_type": "code",
      "execution_count": 1,
      "metadata": {
        "colab": {
          "base_uri": "https://localhost:8080/"
        },
        "id": "TS-f-n54PhCN",
        "outputId": "94d2ad5c-59ea-4ee7-a8be-c82b338185ed"
      },
      "outputs": [
        {
          "output_type": "stream",
          "name": "stdout",
          "text": [
            "Original list: ['Ram', 1, 'Shyam', 2, 'Aman', 3]\n",
            "Sorted list: [1, 2, 3, 'Aman', 'Ram', 'Shyam']\n"
          ]
        }
      ],
      "source": [
        "L = [\"Ram\", 1, \"Shyam\", 2, \"Aman\", 3]\n",
        "print(\"Original list:\", L)\n",
        "\n",
        "# Define a custom sorting key that converts all elements to strings\n",
        "def custom_sort_key(item):\n",
        "    return str(item)\n",
        "\n",
        "# Sort the list using the custom sorting key\n",
        "L.sort(key=custom_sort_key)\n",
        "print(\"Sorted list:\", L)\n"
      ]
    },
    {
      "cell_type": "code",
      "source": [],
      "metadata": {
        "id": "fXAv5GckPusd"
      },
      "execution_count": null,
      "outputs": []
    }
  ]
}