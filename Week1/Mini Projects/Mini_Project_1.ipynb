{
  "nbformat": 4,
  "nbformat_minor": 0,
  "metadata": {
    "colab": {
      "provenance": []
    },
    "kernelspec": {
      "name": "python3",
      "display_name": "Python 3"
    },
    "language_info": {
      "name": "python"
    }
  },
  "cells": [
    {
      "cell_type": "markdown",
      "source": [
        "**Q1**"
      ],
      "metadata": {
        "id": "9fmtr3dNMOrj"
      }
    },
    {
      "cell_type": "code",
      "execution_count": 1,
      "metadata": {
        "id": "qDmp65FvUGA3"
      },
      "outputs": [],
      "source": [
        "# Initial List\n",
        "L = [11, 12, 13, 14]"
      ]
    },
    {
      "cell_type": "code",
      "source": [
        "# (i) Add 50 and 60 to L\n",
        "L.append(50)\n",
        "L.append(60)\n",
        "print(\"After adding 50 and 60:\", L)"
      ],
      "metadata": {
        "colab": {
          "base_uri": "https://localhost:8080/"
        },
        "id": "hAWln23CURaE",
        "outputId": "d27b77c1-38af-4bca-dad6-46074711bc4b"
      },
      "execution_count": 2,
      "outputs": [
        {
          "output_type": "stream",
          "name": "stdout",
          "text": [
            "After adding 50 and 60: [11, 12, 13, 14, 50, 60]\n"
          ]
        }
      ]
    },
    {
      "cell_type": "code",
      "source": [
        "# (ii) Remove 11 and 13 from L\n",
        "L.remove(11)\n",
        "L.remove(13)\n",
        "print(\"After removing 11 and 13:\", L)"
      ],
      "metadata": {
        "colab": {
          "base_uri": "https://localhost:8080/"
        },
        "id": "nPFPtoYhUZzj",
        "outputId": "48a3b791-2c2e-4453-9a85-b45d106d8db5"
      },
      "execution_count": 3,
      "outputs": [
        {
          "output_type": "stream",
          "name": "stdout",
          "text": [
            "After removing 11 and 13: [12, 14, 50, 60]\n"
          ]
        }
      ]
    },
    {
      "cell_type": "code",
      "source": [
        "# (iii) Sort L in ascending order\n",
        "L.sort()\n",
        "print(\"Sorted in ascending order:\", L)"
      ],
      "metadata": {
        "colab": {
          "base_uri": "https://localhost:8080/"
        },
        "id": "YdbOa_DQUcww",
        "outputId": "9ea4a05d-6e03-4194-f988-4bc64c001c25"
      },
      "execution_count": 4,
      "outputs": [
        {
          "output_type": "stream",
          "name": "stdout",
          "text": [
            "Sorted in ascending order: [12, 14, 50, 60]\n"
          ]
        }
      ]
    },
    {
      "cell_type": "code",
      "source": [
        "# (iv) Sort L in descending order\n",
        "L.sort(reverse=True)\n",
        "print(\"Sorted in descending order:\", L)"
      ],
      "metadata": {
        "colab": {
          "base_uri": "https://localhost:8080/"
        },
        "id": "kP2rvhS0U3De",
        "outputId": "dc21c998-9af3-4a6a-f0c1-61315d34b9c5"
      },
      "execution_count": 5,
      "outputs": [
        {
          "output_type": "stream",
          "name": "stdout",
          "text": [
            "Sorted in descending order: [60, 50, 14, 12]\n"
          ]
        }
      ]
    },
    {
      "cell_type": "code",
      "source": [
        "# (v) Search for 13 in L\n",
        "search_element = 13\n",
        "if search_element in L:\n",
        "    print(f\"{search_element} is present in the list.\")\n",
        "else:\n",
        "    print(f\"{search_element} is not present in the list.\")"
      ],
      "metadata": {
        "colab": {
          "base_uri": "https://localhost:8080/"
        },
        "id": "oTe8ipbTU49y",
        "outputId": "15d91b2c-e1b7-468a-e4fc-7189691cb4a3"
      },
      "execution_count": 6,
      "outputs": [
        {
          "output_type": "stream",
          "name": "stdout",
          "text": [
            "13 is not present in the list.\n"
          ]
        }
      ]
    },
    {
      "cell_type": "code",
      "source": [
        "# (vi) Count the number of elements present in L\n",
        "count = len(L)\n",
        "print(\"Number of elements in L:\", count)"
      ],
      "metadata": {
        "colab": {
          "base_uri": "https://localhost:8080/"
        },
        "id": "6uTW7bB7U9Dt",
        "outputId": "d66531ca-98f6-418f-b74f-27b3f70d3445"
      },
      "execution_count": 7,
      "outputs": [
        {
          "output_type": "stream",
          "name": "stdout",
          "text": [
            "Number of elements in L: 4\n"
          ]
        }
      ]
    },
    {
      "cell_type": "code",
      "source": [
        "# (vii) Sum all the elements in L\n",
        "total_sum = sum(L)\n",
        "print(\"Sum of all elements in L:\", total_sum)"
      ],
      "metadata": {
        "colab": {
          "base_uri": "https://localhost:8080/"
        },
        "id": "qXc3r4o1U_LJ",
        "outputId": "aca23281-764e-4aa2-adb8-d875b803eb27"
      },
      "execution_count": 8,
      "outputs": [
        {
          "output_type": "stream",
          "name": "stdout",
          "text": [
            "Sum of all elements in L: 136\n"
          ]
        }
      ]
    },
    {
      "cell_type": "code",
      "source": [
        "# (viii) Sum all ODD numbers in L\n",
        "odd_sum = sum(x for x in L if x % 2 != 0)\n",
        "print(\"Sum of all odd numbers in L:\", odd_sum)"
      ],
      "metadata": {
        "colab": {
          "base_uri": "https://localhost:8080/"
        },
        "id": "dQUL59tdVBUM",
        "outputId": "b87ddfe0-857f-43cc-c201-ebd222ae9166"
      },
      "execution_count": 9,
      "outputs": [
        {
          "output_type": "stream",
          "name": "stdout",
          "text": [
            "Sum of all odd numbers in L: 0\n"
          ]
        }
      ]
    },
    {
      "cell_type": "code",
      "source": [
        "# (ix) Sum all EVEN numbers in L\n",
        "even_sum = sum(x for x in L if x % 2 == 0)\n",
        "print(\"Sum of all even numbers in L:\", even_sum)"
      ],
      "metadata": {
        "colab": {
          "base_uri": "https://localhost:8080/"
        },
        "id": "wcUzSSoPVExK",
        "outputId": "3c2de7ce-4b2f-4fd4-8ea3-18dcddfea76d"
      },
      "execution_count": 10,
      "outputs": [
        {
          "output_type": "stream",
          "name": "stdout",
          "text": [
            "Sum of all even numbers in L: 136\n"
          ]
        }
      ]
    },
    {
      "cell_type": "code",
      "source": [
        "# (x) Sum all PRIME numbers in L\n",
        "def is_prime(n):\n",
        "    if n <= 1:\n",
        "        return False\n",
        "    if n == 2:\n",
        "        return True\n",
        "    if n % 2 == 0:\n",
        "        return False\n",
        "    for i in range(3, int(n**0.5) + 1, 2):\n",
        "        if n % i == 0:\n",
        "            return False\n",
        "    return True"
      ],
      "metadata": {
        "id": "t6bXoR2zVHGV"
      },
      "execution_count": 11,
      "outputs": []
    },
    {
      "cell_type": "code",
      "source": [
        "prime_sum = sum(x for x in L if is_prime(x))\n",
        "print(\"Sum of all prime numbers in L:\", prime_sum)"
      ],
      "metadata": {
        "colab": {
          "base_uri": "https://localhost:8080/"
        },
        "id": "V5oZj3NFVJZ5",
        "outputId": "3eae388f-b2d2-4e80-e149-2cec4a05d740"
      },
      "execution_count": 12,
      "outputs": [
        {
          "output_type": "stream",
          "name": "stdout",
          "text": [
            "Sum of all prime numbers in L: 0\n"
          ]
        }
      ]
    },
    {
      "cell_type": "code",
      "source": [
        "# (xi) Clear all the elements in L\n",
        "L.clear()\n",
        "print(\"List after clearing all elements:\", L)"
      ],
      "metadata": {
        "colab": {
          "base_uri": "https://localhost:8080/"
        },
        "id": "n9qImwIDVNda",
        "outputId": "7e10a83e-f1b6-46f1-928a-d2e0a19233e9"
      },
      "execution_count": 13,
      "outputs": [
        {
          "output_type": "stream",
          "name": "stdout",
          "text": [
            "List after clearing all elements: []\n"
          ]
        }
      ]
    },
    {
      "cell_type": "code",
      "source": [
        "# (xii) Delete L\n",
        "del L\n",
        "try:\n",
        "    print(L)\n",
        "except NameError:\n",
        "    print(\"L is deleted.\")"
      ],
      "metadata": {
        "colab": {
          "base_uri": "https://localhost:8080/"
        },
        "id": "YvkPqfZVVV8X",
        "outputId": "7c478dcd-bb88-42ba-ec59-1f48e4ccafaa"
      },
      "execution_count": 14,
      "outputs": [
        {
          "output_type": "stream",
          "name": "stdout",
          "text": [
            "L is deleted.\n"
          ]
        }
      ]
    },
    {
      "cell_type": "markdown",
      "source": [
        "**Q2**"
      ],
      "metadata": {
        "id": "FOU9UUHuMTF3"
      }
    },
    {
      "cell_type": "code",
      "source": [
        "# Initial dictionary\n",
        "D = {1: 5.6, 2: 7.8, 3: 6.6, 4: 8.7, 5: 7.7}\n",
        "\n",
        "# (i) Add new entry in D; key=8 and value=8.8\n",
        "D[8] = 8.8\n",
        "print(\"After adding key=8, value=8.8:\", D)\n",
        "\n",
        "# (ii) Remove key=2\n",
        "D.pop(2, None)\n",
        "print(\"After removing key=2:\", D)\n",
        "\n",
        "# (iii) Check whether key=6 is present in D\n",
        "is_key_6_present = 6 in D\n",
        "print(\"Is key=6 present in D?\", is_key_6_present)\n",
        "\n",
        "# (iv) Count the number of elements present in D\n",
        "number_of_elements = len(D)\n",
        "print(\"Number of elements in D:\", number_of_elements)\n",
        "\n",
        "# (v) Add all the values present in D\n",
        "sum_of_values = sum(D.values())\n",
        "print(\"Sum of all values in D:\", sum_of_values)\n",
        "\n",
        "# (vi) Update the value of key=3 to 7.1\n",
        "D[3] = 7.1\n",
        "print(\"After updating key=3 to value=7.1:\", D)\n",
        "\n",
        "# (vii) Clear the dictionary\n",
        "D.clear()\n",
        "print(\"After clearing the dictionary:\", D)\n"
      ],
      "metadata": {
        "id": "Ebrayra2VYRX",
        "colab": {
          "base_uri": "https://localhost:8080/"
        },
        "outputId": "4746b71d-9d27-4715-d49b-ca22352ec548"
      },
      "execution_count": 19,
      "outputs": [
        {
          "output_type": "stream",
          "name": "stdout",
          "text": [
            "After adding key=8, value=8.8: {1: 5.6, 2: 7.8, 3: 6.6, 4: 8.7, 5: 7.7, 8: 8.8}\n",
            "After removing key=2: {1: 5.6, 3: 6.6, 4: 8.7, 5: 7.7, 8: 8.8}\n",
            "Is key=6 present in D? False\n",
            "Number of elements in D: 5\n",
            "Sum of all values in D: 37.4\n",
            "After updating key=3 to value=7.1: {1: 5.6, 3: 7.1, 4: 8.7, 5: 7.7, 8: 8.8}\n",
            "After clearing the dictionary: {}\n"
          ]
        }
      ]
    },
    {
      "cell_type": "markdown",
      "source": [
        "**Q3**"
      ],
      "metadata": {
        "id": "Md01gTnHMvUs"
      }
    },
    {
      "cell_type": "code",
      "source": [
        "# Initial sets\n",
        "S1 = {10, 20, 30, 40, 50, 60}\n",
        "S2 = {40, 50, 60, 70, 80, 90}\n",
        "\n",
        "# (i) Add 55 and 66 in Set S1\n",
        "S1.update([55, 66])\n",
        "print(\"After adding 55 and 66 to S1:\", S1)\n",
        "\n",
        "# (ii) Remove 10 and 30 from Set S1\n",
        "S1.discard(10)\n",
        "S1.discard(30)\n",
        "print(\"After removing 10 and 30 from S1:\", S1)\n",
        "\n",
        "# (iii) Check whether 40 is present in S1\n",
        "is_40_present = 40 in S1\n",
        "print(\"Is 40 present in S1?\", is_40_present)\n",
        "\n",
        "# (iv) Find the union between S1 and S2\n",
        "union_S1_S2 = S1.union(S2)\n",
        "print(\"Union of S1 and S2:\", union_S1_S2)\n",
        "\n",
        "# (v) Find the intersection between S1 and S2\n",
        "intersection_S1_S2 = S1.intersection(S2)\n",
        "print(\"Intersection of S1 and S2:\", intersection_S1_S2)\n",
        "\n",
        "# (vi) Find the difference S1 - S2\n",
        "difference_S1_S2 = S1.difference(S2)\n",
        "print(\"Difference S1 - S2:\", difference_S1_S2)\n"
      ],
      "metadata": {
        "colab": {
          "base_uri": "https://localhost:8080/"
        },
        "id": "6RZVrkR5MtdI",
        "outputId": "fb3a8f8f-04e3-4feb-9855-36d6c7228d37"
      },
      "execution_count": 20,
      "outputs": [
        {
          "output_type": "stream",
          "name": "stdout",
          "text": [
            "After adding 55 and 66 to S1: {50, 66, 20, 55, 40, 10, 60, 30}\n",
            "After removing 10 and 30 from S1: {50, 66, 20, 55, 40, 60}\n",
            "Is 40 present in S1? True\n",
            "Union of S1 and S2: {66, 70, 40, 80, 50, 20, 55, 90, 60}\n",
            "Intersection of S1 and S2: {40, 50, 60}\n",
            "Difference S1 - S2: {66, 20, 55}\n"
          ]
        }
      ]
    },
    {
      "cell_type": "markdown",
      "source": [
        "**Q4**"
      ],
      "metadata": {
        "id": "_AsYD5qZM7sQ"
      }
    },
    {
      "cell_type": "code",
      "source": [
        "import random\n",
        "import string\n",
        "\n",
        "def generate_random_string(length):\n",
        "    letters = string.ascii_letters\n",
        "    return ''.join(random.choice(letters) for i in range(length))\n",
        "\n",
        "random_strings = [generate_random_string(random.randint(6, 8)) for _ in range(100)]\n",
        "\n",
        "print(\"100 random strings of length between 6 and 8:\")\n",
        "for s in random_strings:\n",
        "    print(s)\n"
      ],
      "metadata": {
        "colab": {
          "base_uri": "https://localhost:8080/"
        },
        "id": "ZGWXn2g1M68J",
        "outputId": "683b326f-0fa2-4575-b38a-8d430c313ff6"
      },
      "execution_count": 21,
      "outputs": [
        {
          "output_type": "stream",
          "name": "stdout",
          "text": [
            "100 random strings of length between 6 and 8:\n",
            "qXtIYfZ\n",
            "RecnkeRY\n",
            "QKfQNOZ\n",
            "CmVXbxN\n",
            "XsSlMfz\n",
            "uGBgJU\n",
            "DJzaOQYJ\n",
            "YBpiPbS\n",
            "BTKZqz\n",
            "pmIzOLT\n",
            "offVLprD\n",
            "jdSQEh\n",
            "XzNrnQst\n",
            "VqTKrz\n",
            "WffbXgNJ\n",
            "GoSBpf\n",
            "unxJFi\n",
            "EKjrWkH\n",
            "pjfpQru\n",
            "DSCwcs\n",
            "EmnWvEme\n",
            "ZGCxCWuv\n",
            "axGDpT\n",
            "cQDFyNQ\n",
            "VVyWco\n",
            "iyqvokj\n",
            "VlSYKA\n",
            "kWxkGF\n",
            "svZlPs\n",
            "wSrFIH\n",
            "GKBIrzJ\n",
            "XKhXktGy\n",
            "yjKjjkky\n",
            "HaLBxh\n",
            "ZyCKxAb\n",
            "KSLwpIf\n",
            "fcWYUiA\n",
            "SltHCMqr\n",
            "SyzfadbB\n",
            "tuyzEAD\n",
            "qEhAEck\n",
            "VbWUOP\n",
            "kqZKlO\n",
            "ImXXuZYu\n",
            "pJETVbBI\n",
            "oRGPXx\n",
            "rdtUuv\n",
            "eNXhRmTF\n",
            "ARkQTVXU\n",
            "poKhFGJ\n",
            "mjGlQu\n",
            "NAeipRcx\n",
            "VDGyyFm\n",
            "VQwdhno\n",
            "jExuxN\n",
            "XRdYnGJ\n",
            "ZoYXxREO\n",
            "nwWRtnaz\n",
            "zsmHUNWn\n",
            "tPRGYnlS\n",
            "TbgJBmc\n",
            "rmRVlHvE\n",
            "BqYaKNBd\n",
            "knGpzGe\n",
            "VMVFfGVW\n",
            "mDcpeLy\n",
            "QSPPuFha\n",
            "qsueZx\n",
            "rjKrPUve\n",
            "CnmJVicI\n",
            "XBeVEdex\n",
            "bAvamQlh\n",
            "jhXmkdb\n",
            "BfhzioPI\n",
            "OOkEsQq\n",
            "zfuwFt\n",
            "MZZYvyo\n",
            "PltsdQY\n",
            "CLDhwKeq\n",
            "oGuPYq\n",
            "YfLDcOg\n",
            "Gzqddrt\n",
            "CVbgWsX\n",
            "IEgpaMrC\n",
            "aZIfWRHc\n",
            "oJebncIP\n",
            "bkLgRzJN\n",
            "bPDuEFPt\n",
            "FxMxqf\n",
            "UNcqKDDj\n",
            "NlLjGnPz\n",
            "EJcWIF\n",
            "sksQQh\n",
            "lviNilx\n",
            "lqVwSOcm\n",
            "EDUKrB\n",
            "qotrHv\n",
            "IMZvwDe\n",
            "SLIuxGTb\n",
            "QWbldLmV\n"
          ]
        }
      ]
    },
    {
      "cell_type": "code",
      "source": [
        "def is_prime(n):\n",
        "    if n <= 1:\n",
        "        return False\n",
        "    for i in range(2, int(n**0.5) + 1):\n",
        "        if n % i == 0:\n",
        "            return False\n",
        "    return True\n",
        "\n",
        "primes = [num for num in range(600, 801) if is_prime(num)]\n",
        "\n",
        "print(\"Prime numbers between 600 and 800:\")\n",
        "print(primes)\n"
      ],
      "metadata": {
        "colab": {
          "base_uri": "https://localhost:8080/"
        },
        "id": "aeYJCzA5NNTb",
        "outputId": "a60c7c86-3edf-479f-f03b-0dd4bddf541e"
      },
      "execution_count": 22,
      "outputs": [
        {
          "output_type": "stream",
          "name": "stdout",
          "text": [
            "Prime numbers between 600 and 800:\n",
            "[601, 607, 613, 617, 619, 631, 641, 643, 647, 653, 659, 661, 673, 677, 683, 691, 701, 709, 719, 727, 733, 739, 743, 751, 757, 761, 769, 773, 787, 797]\n"
          ]
        }
      ]
    },
    {
      "cell_type": "code",
      "source": [
        "divisible_by_7_and_9 = [num for num in range(100, 1001) if num % 7 == 0 and num % 9 == 0]\n",
        "\n",
        "print(\"Numbers between 100 and 1000 divisible by 7 and 9:\")\n",
        "print(divisible_by_7_and_9)\n"
      ],
      "metadata": {
        "colab": {
          "base_uri": "https://localhost:8080/"
        },
        "id": "zt6KaalONPd1",
        "outputId": "45af4c30-0405-43ed-a415-e65069f81a5b"
      },
      "execution_count": 23,
      "outputs": [
        {
          "output_type": "stream",
          "name": "stdout",
          "text": [
            "Numbers between 100 and 1000 divisible by 7 and 9:\n",
            "[126, 189, 252, 315, 378, 441, 504, 567, 630, 693, 756, 819, 882, 945]\n"
          ]
        }
      ]
    },
    {
      "cell_type": "markdown",
      "source": [
        "**Q5**"
      ],
      "metadata": {
        "id": "PRO8K17kNUoC"
      }
    },
    {
      "cell_type": "code",
      "source": [
        "import random\n",
        "\n",
        "# Generate two lists of 10 random numbers between 10 and 30\n",
        "list1 = [random.randint(10, 30) for _ in range(10)]\n",
        "list2 = [random.randint(10, 30) for _ in range(10)]\n",
        "\n",
        "print(\"List 1:\", list1)\n",
        "print(\"List 2:\", list2)\n",
        "\n",
        "# (i) Find common numbers in the two lists\n",
        "common_numbers = list(set(list1) & set(list2))\n",
        "print(\"Common numbers in both lists:\", common_numbers)\n",
        "\n",
        "# (ii) Find unique numbers in both lists\n",
        "unique_numbers = list(set(list1) ^ set(list2))\n",
        "print(\"Unique numbers in both lists:\", unique_numbers)\n",
        "\n",
        "# (iii) Find minimum in both lists\n",
        "min_list1 = min(list1)\n",
        "min_list2 = min(list2)\n",
        "print(\"Minimum in list1:\", min_list1)\n",
        "print(\"Minimum in list2:\", min_list2)\n",
        "\n",
        "# (iv) Find maximum in both lists\n",
        "max_list1 = max(list1)\n",
        "max_list2 = max(list2)\n",
        "print(\"Maximum in list1:\", max_list1)\n",
        "print(\"Maximum in list2:\", max_list2)\n",
        "\n",
        "# (v) Find sum of both lists\n",
        "sum_list1 = sum(list1)\n",
        "sum_list2 = sum(list2)\n",
        "total_sum = sum_list1 + sum_list2\n",
        "print(\"Sum of list1:\", sum_list1)\n",
        "print(\"Sum of list2:\", sum_list2)\n",
        "print(\"Total sum of both lists:\", total_sum)\n"
      ],
      "metadata": {
        "colab": {
          "base_uri": "https://localhost:8080/"
        },
        "id": "7ct83uhkNReR",
        "outputId": "dae35542-59ad-4e82-c7bc-ffcd8b4ed797"
      },
      "execution_count": 24,
      "outputs": [
        {
          "output_type": "stream",
          "name": "stdout",
          "text": [
            "List 1: [22, 23, 26, 22, 23, 15, 16, 25, 15, 22]\n",
            "List 2: [14, 15, 10, 28, 23, 13, 13, 13, 11, 22]\n",
            "Common numbers in both lists: [23, 22, 15]\n",
            "Unique numbers in both lists: [10, 11, 13, 14, 16, 25, 26, 28]\n",
            "Minimum in list1: 15\n",
            "Minimum in list2: 10\n",
            "Maximum in list1: 26\n",
            "Maximum in list2: 28\n",
            "Sum of list1: 209\n",
            "Sum of list2: 162\n",
            "Total sum of both lists: 371\n"
          ]
        }
      ]
    },
    {
      "cell_type": "markdown",
      "source": [
        "**Q6**"
      ],
      "metadata": {
        "id": "I4r5Bl_6Nif_"
      }
    },
    {
      "cell_type": "code",
      "source": [
        "import random\n",
        "\n",
        "# Generate a list of 100 random numbers between 100 and 900\n",
        "numbers = [random.randint(100, 900) for _ in range(100)]\n",
        "\n",
        "# (i) All odd numbers\n",
        "odd_numbers = [num for num in numbers if num % 2 != 0]\n",
        "print(\"Odd numbers:\", odd_numbers)\n",
        "\n",
        "# (ii) All even numbers\n",
        "even_numbers = [num for num in numbers if num % 2 == 0]\n",
        "print(\"Even numbers:\", even_numbers)\n",
        "\n",
        "# (iii) All prime numbers\n",
        "def is_prime(n):\n",
        "    if n <= 1:\n",
        "        return False\n",
        "    for i in range(2, int(n**0.5) + 1):\n",
        "        if n % i == 0:\n",
        "            return False\n",
        "    return True\n",
        "\n",
        "prime_numbers = [num for num in numbers if is_prime(num)]\n",
        "print(\"Prime numbers:\", prime_numbers)\n"
      ],
      "metadata": {
        "colab": {
          "base_uri": "https://localhost:8080/"
        },
        "id": "j4FCUi7xNW9M",
        "outputId": "d8deab7f-f699-460f-b49e-7fbdf7b6bc95"
      },
      "execution_count": 25,
      "outputs": [
        {
          "output_type": "stream",
          "name": "stdout",
          "text": [
            "Odd numbers: [351, 263, 825, 421, 573, 357, 843, 551, 141, 441, 891, 379, 411, 657, 435, 343, 223, 161, 323, 729, 219, 157, 411, 689, 263, 493, 271, 209, 111, 235, 503, 799, 829, 347, 757, 657, 635, 249, 469, 611, 345, 671, 445, 845, 171, 427, 717, 647, 257, 415, 755, 371, 865, 117, 179, 233, 553, 371, 165, 673]\n",
            "Even numbers: [556, 318, 398, 222, 118, 378, 416, 216, 434, 828, 122, 700, 684, 670, 278, 144, 704, 540, 464, 412, 774, 204, 536, 608, 860, 178, 368, 362, 742, 730, 852, 400, 144, 366, 504, 496, 376, 158, 198, 798]\n",
            "Prime numbers: [263, 421, 379, 223, 157, 263, 271, 503, 829, 347, 757, 647, 257, 179, 233, 673]\n"
          ]
        }
      ]
    },
    {
      "cell_type": "markdown",
      "source": [
        "**Q7**"
      ],
      "metadata": {
        "id": "Rod85UtZNkqo"
      }
    },
    {
      "cell_type": "code",
      "source": [
        "# Dictionary D\n",
        "D = {1: \"One\", 2: \"Two\", 3: \"Three\", 4: \"Four\", 5: \"Five\"}\n",
        "\n",
        "# Writing keys and values to a file\n",
        "with open('dictionary_output.txt', 'w') as file:\n",
        "    for key, value in D.items():\n",
        "        file.write(f\"{key}, {value}\\n\")\n",
        "\n",
        "print(\"Dictionary keys and values have been written to dictionary_output.txt\")\n"
      ],
      "metadata": {
        "colab": {
          "base_uri": "https://localhost:8080/"
        },
        "id": "5ATDHSduNkBR",
        "outputId": "1f6a495a-72db-4c22-84c3-60a575174651"
      },
      "execution_count": 26,
      "outputs": [
        {
          "output_type": "stream",
          "name": "stdout",
          "text": [
            "Dictionary keys and values have been written to dictionary_output.txt\n"
          ]
        }
      ]
    },
    {
      "cell_type": "markdown",
      "source": [
        "**Q8**"
      ],
      "metadata": {
        "id": "_KY5iwUTNpOy"
      }
    },
    {
      "cell_type": "code",
      "source": [
        "# List L\n",
        "L = [\"One\", \"Two\", \"Three\", \"Four\", \"Five\"]\n",
        "\n",
        "# Writing elements and their lengths to a file\n",
        "with open('list_output.txt', 'w') as file:\n",
        "    for item in L:\n",
        "        file.write(f\"{item}, {len(item)}\\n\")\n",
        "\n",
        "print(\"List elements and their lengths have been written to list_output.txt\")\n"
      ],
      "metadata": {
        "colab": {
          "base_uri": "https://localhost:8080/"
        },
        "id": "b_uHZ-sXNoJB",
        "outputId": "eae17836-cec7-4ef1-e17b-2b3d289cfd08"
      },
      "execution_count": 27,
      "outputs": [
        {
          "output_type": "stream",
          "name": "stdout",
          "text": [
            "List elements and their lengths have been written to list_output.txt\n"
          ]
        }
      ]
    },
    {
      "cell_type": "markdown",
      "source": [
        "**Q9**"
      ],
      "metadata": {
        "id": "zSNgyIGwOH4M"
      }
    },
    {
      "cell_type": "code",
      "source": [
        "import random\n",
        "import string\n",
        "\n",
        "def generate_random_string(length):\n",
        "    letters = string.ascii_letters\n",
        "    return ''.join(random.choice(letters) for _ in range(length))\n",
        "\n",
        "with open('random_strings.txt', 'w') as file:\n",
        "    for _ in range(100):\n",
        "        random_string = generate_random_string(random.randint(10, 15))\n",
        "        file.write(random_string + '\\n')\n",
        "\n",
        "print(\"100 random strings have been written to random_strings.txt\")\n"
      ],
      "metadata": {
        "colab": {
          "base_uri": "https://localhost:8080/"
        },
        "id": "o04cMxOdOJZ5",
        "outputId": "27ad6f6f-bd5d-4613-9609-a56ad1abc552"
      },
      "execution_count": 28,
      "outputs": [
        {
          "output_type": "stream",
          "name": "stdout",
          "text": [
            "100 random strings have been written to random_strings.txt\n"
          ]
        }
      ]
    },
    {
      "cell_type": "markdown",
      "source": [
        "**Q10**"
      ],
      "metadata": {
        "id": "XkDSxKkzOLaT"
      }
    },
    {
      "cell_type": "code",
      "source": [
        "def is_prime(n):\n",
        "    if n <= 1:\n",
        "        return False\n",
        "    for i in range(2, int(n**0.5) + 1):\n",
        "        if n % i == 0:\n",
        "            return False\n",
        "    return True\n",
        "\n",
        "with open('prime_numbers.txt', 'w') as file:\n",
        "    for num in range(600, 801):\n",
        "        if is_prime(num):\n",
        "            file.write(str(num) + '\\n')\n",
        "\n",
        "print(\"Prime numbers between 600 and 800 have been written to prime_numbers.txt\")\n"
      ],
      "metadata": {
        "colab": {
          "base_uri": "https://localhost:8080/"
        },
        "id": "QyrG5RduOMoF",
        "outputId": "14b30d36-fc7f-4b93-90bf-d780750d5afc"
      },
      "execution_count": 29,
      "outputs": [
        {
          "output_type": "stream",
          "name": "stdout",
          "text": [
            "Prime numbers between 600 and 800 have been written to prime_numbers.txt\n"
          ]
        }
      ]
    },
    {
      "cell_type": "markdown",
      "source": [
        "**Q11**"
      ],
      "metadata": {
        "id": "n9bCmJxQOOti"
      }
    },
    {
      "cell_type": "code",
      "source": [
        "import time\n",
        "\n",
        "start_time = time.time()\n",
        "\n",
        "# Example program (replace this with the actual program whose time you want to measure)\n",
        "for i in range(1000000):\n",
        "    pass\n",
        "\n",
        "end_time = time.time()\n",
        "\n",
        "print(\"Time taken by the program:\", end_time - start_time, \"seconds\")\n"
      ],
      "metadata": {
        "colab": {
          "base_uri": "https://localhost:8080/"
        },
        "id": "ScthLf-eOPzO",
        "outputId": "1f1dd0c5-079c-42e9-9bc2-0b0fa85feda2"
      },
      "execution_count": 30,
      "outputs": [
        {
          "output_type": "stream",
          "name": "stdout",
          "text": [
            "Time taken by the program: 0.09191203117370605 seconds\n"
          ]
        }
      ]
    },
    {
      "cell_type": "markdown",
      "source": [
        "**Q12**"
      ],
      "metadata": {
        "id": "WdBRPQscOSW4"
      }
    },
    {
      "cell_type": "code",
      "source": [
        "import time\n",
        "import random\n",
        "import matplotlib.pyplot as plt\n",
        "\n",
        "sizes = [5000, 10000, 15000, 20000, 25000]\n",
        "times = []\n",
        "\n",
        "for size in sizes:\n",
        "    lst = [random.randint(1, 100000) for _ in range(size)]\n",
        "    start_time = time.time()\n",
        "    lst.sort()\n",
        "    end_time = time.time()\n",
        "    times.append(end_time - start_time)\n",
        "\n",
        "# Plotting the graph\n",
        "plt.plot(sizes, times, marker='o')\n",
        "plt.xlabel('Number of elements in list')\n",
        "plt.ylabel('Time taken (seconds)')\n",
        "plt.title('Time taken to sort lists of different sizes')\n",
        "plt.grid(True)\n",
        "plt.show()\n"
      ],
      "metadata": {
        "colab": {
          "base_uri": "https://localhost:8080/",
          "height": 472
        },
        "id": "Yd6blqkNOUO4",
        "outputId": "78117394-bcb0-4d14-d94f-f62d736b9cdb"
      },
      "execution_count": 31,
      "outputs": [
        {
          "output_type": "display_data",
          "data": {
            "text/plain": [
              "<Figure size 640x480 with 1 Axes>"
            ],
            "image/png": "[encoded data removed]"
          },
          "metadata": {}
        }
      ]
    },
    {
      "cell_type": "markdown",
      "source": [
        "**Q13**"
      ],
      "metadata": {
        "id": "PF-LdLDoOaTG"
      }
    },
    {
      "cell_type": "code",
      "source": [
        "students_marks = {\n",
        "    'Student1': [85, 78, 92, 88, 79],\n",
        "    'Student2': [72, 67, 80, 73, 90],\n",
        "    'Student3': [90, 85, 95, 92, 88],\n",
        "    'Student4': [60, 65, 70, 75, 80],\n",
        "    'Student5': [88, 92, 85, 91, 87]\n",
        "}\n",
        "\n",
        "def average(marks):\n",
        "    return sum(marks) / len(marks)\n",
        "\n",
        "students_averages = {student: average(marks) for student, marks in students_marks.items()}\n",
        "\n",
        "max_avg_student = max(students_averages, key=students_averages.get)\n",
        "min_avg_student = min(students_averages, key=students_averages.get)\n",
        "\n",
        "print(\"Student with maximum average marks:\", max_avg_student, students_averages[max_avg_student])\n",
        "print(\"Student with minimum average marks:\", min_avg_student, students_averages[min_avg_student])\n"
      ],
      "metadata": {
        "colab": {
          "base_uri": "https://localhost:8080/"
        },
        "id": "lKZCVH8fObf8",
        "outputId": "d0c8e814-5479-418c-b924-6a86c7bfbbad"
      },
      "execution_count": 32,
      "outputs": [
        {
          "output_type": "stream",
          "name": "stdout",
          "text": [
            "Student with maximum average marks: Student3 90.0\n",
            "Student with minimum average marks: Student4 70.0\n"
          ]
        }
      ]
    }
  ]
}