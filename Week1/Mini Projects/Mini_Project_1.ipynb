{
  "nbformat": 4,
  "nbformat_minor": 0,
  "metadata": {
    "colab": {
      "provenance": []
    },
    "kernelspec": {
      "name": "python3",
      "display_name": "Python 3"
    },
    "language_info": {
      "name": "python"
    }
  },
  "cells": [
    {
      "cell_type": "code",
      "execution_count": 5,
      "metadata": {
        "id": "qDmp65FvUGA3"
      },
      "outputs": [],
      "source": [
        "# Initial List\n",
        "L = [11, 12, 13, 14]"
      ]
    },
    {
      "cell_type": "code",
      "source": [
        "# (i) Add 50 and 60 to L\n",
        "L.append(50)\n",
        "L.append(60)\n",
        "print(\"After adding 50 and 60:\", L)"
      ],
      "metadata": {
        "colab": {
          "base_uri": "https://localhost:8080/"
        },
        "id": "hAWln23CURaE",
        "outputId": "d23abb94-27e9-4d3f-8f1d-3be48c473e21"
      },
      "execution_count": 6,
      "outputs": [
        {
          "output_type": "stream",
          "name": "stdout",
          "text": [
            "After adding 50 and 60: [11, 12, 13, 14, 50, 60]\n"
          ]
        }
      ]
    },
    {
      "cell_type": "code",
      "source": [
        "# (ii) Remove 11 and 13 from L\n",
        "L.remove(11)\n",
        "L.remove(13)\n",
        "print(\"After removing 11 and 13:\", L)"
      ],
      "metadata": {
        "colab": {
          "base_uri": "https://localhost:8080/"
        },
        "id": "nPFPtoYhUZzj",
        "outputId": "062c9ebf-5d30-4ff5-ad86-feb2dbefa9db"
      },
      "execution_count": 7,
      "outputs": [
        {
          "output_type": "stream",
          "name": "stdout",
          "text": [
            "After removing 11 and 13: [12, 14, 50, 60]\n"
          ]
        }
      ]
    },
    {
      "cell_type": "code",
      "source": [
        "# (iii) Sort L in ascending order\n",
        "L.sort()\n",
        "print(\"Sorted in ascending order:\", L)"
      ],
      "metadata": {
        "colab": {
          "base_uri": "https://localhost:8080/"
        },
        "id": "YdbOa_DQUcww",
        "outputId": "0362739f-e626-4492-c115-1b1d0c3ca2e3"
      },
      "execution_count": 8,
      "outputs": [
        {
          "output_type": "stream",
          "name": "stdout",
          "text": [
            "Sorted in ascending order: [12, 14, 50, 60]\n"
          ]
        }
      ]
    },
    {
      "cell_type": "code",
      "source": [
        "# (iv) Sort L in descending order\n",
        "L.sort(reverse=True)\n",
        "print(\"Sorted in descending order:\", L)"
      ],
      "metadata": {
        "colab": {
          "base_uri": "https://localhost:8080/"
        },
        "id": "kP2rvhS0U3De",
        "outputId": "b4fecf32-08fe-4c59-efe6-b930cd77bf88"
      },
      "execution_count": 9,
      "outputs": [
        {
          "output_type": "stream",
          "name": "stdout",
          "text": [
            "Sorted in descending order: [60, 50, 14, 12]\n"
          ]
        }
      ]
    },
    {
      "cell_type": "code",
      "source": [
        "# (v) Search for 13 in L\n",
        "search_element = 13\n",
        "if search_element in L:\n",
        "    print(f\"{search_element} is present in the list.\")\n",
        "else:\n",
        "    print(f\"{search_element} is not present in the list.\")"
      ],
      "metadata": {
        "colab": {
          "base_uri": "https://localhost:8080/"
        },
        "id": "oTe8ipbTU49y",
        "outputId": "33e65d8d-9845-4e30-b34b-8df7148c86bd"
      },
      "execution_count": 10,
      "outputs": [
        {
          "output_type": "stream",
          "name": "stdout",
          "text": [
            "13 is not present in the list.\n"
          ]
        }
      ]
    },
    {
      "cell_type": "code",
      "source": [
        "# (vi) Count the number of elements present in L\n",
        "count = len(L)\n",
        "print(\"Number of elements in L:\", count)"
      ],
      "metadata": {
        "colab": {
          "base_uri": "https://localhost:8080/"
        },
        "id": "6uTW7bB7U9Dt",
        "outputId": "17f27fc4-6c78-4e20-f84f-9db2ba92db5e"
      },
      "execution_count": 11,
      "outputs": [
        {
          "output_type": "stream",
          "name": "stdout",
          "text": [
            "Number of elements in L: 4\n"
          ]
        }
      ]
    },
    {
      "cell_type": "code",
      "source": [
        "# (vii) Sum all the elements in L\n",
        "total_sum = sum(L)\n",
        "print(\"Sum of all elements in L:\", total_sum)"
      ],
      "metadata": {
        "colab": {
          "base_uri": "https://localhost:8080/"
        },
        "id": "qXc3r4o1U_LJ",
        "outputId": "a121f96c-139a-4f95-9947-2dcf35090548"
      },
      "execution_count": 12,
      "outputs": [
        {
          "output_type": "stream",
          "name": "stdout",
          "text": [
            "Sum of all elements in L: 136\n"
          ]
        }
      ]
    },
    {
      "cell_type": "code",
      "source": [
        "# (viii) Sum all ODD numbers in L\n",
        "odd_sum = sum(x for x in L if x % 2 != 0)\n",
        "print(\"Sum of all odd numbers in L:\", odd_sum)"
      ],
      "metadata": {
        "colab": {
          "base_uri": "https://localhost:8080/"
        },
        "id": "dQUL59tdVBUM",
        "outputId": "2bd6863d-369b-4803-eec0-b2bf096501ab"
      },
      "execution_count": 13,
      "outputs": [
        {
          "output_type": "stream",
          "name": "stdout",
          "text": [
            "Sum of all odd numbers in L: 0\n"
          ]
        }
      ]
    },
    {
      "cell_type": "code",
      "source": [
        "# (ix) Sum all EVEN numbers in L\n",
        "even_sum = sum(x for x in L if x % 2 == 0)\n",
        "print(\"Sum of all even numbers in L:\", even_sum)"
      ],
      "metadata": {
        "colab": {
          "base_uri": "https://localhost:8080/"
        },
        "id": "wcUzSSoPVExK",
        "outputId": "70397cb2-a8b3-461c-be7d-a53f0a7dbb54"
      },
      "execution_count": 14,
      "outputs": [
        {
          "output_type": "stream",
          "name": "stdout",
          "text": [
            "Sum of all even numbers in L: 136\n"
          ]
        }
      ]
    },
    {
      "cell_type": "code",
      "source": [
        "# (x) Sum all PRIME numbers in L\n",
        "def is_prime(n):\n",
        "    if n <= 1:\n",
        "        return False\n",
        "    if n == 2:\n",
        "        return True\n",
        "    if n % 2 == 0:\n",
        "        return False\n",
        "    for i in range(3, int(n**0.5) + 1, 2):\n",
        "        if n % i == 0:\n",
        "            return False\n",
        "    return True"
      ],
      "metadata": {
        "id": "t6bXoR2zVHGV"
      },
      "execution_count": 15,
      "outputs": []
    },
    {
      "cell_type": "code",
      "source": [
        "prime_sum = sum(x for x in L if is_prime(x))\n",
        "print(\"Sum of all prime numbers in L:\", prime_sum)"
      ],
      "metadata": {
        "colab": {
          "base_uri": "https://localhost:8080/"
        },
        "id": "V5oZj3NFVJZ5",
        "outputId": "081824cf-194b-4bff-e0f9-a87b2c25c316"
      },
      "execution_count": 16,
      "outputs": [
        {
          "output_type": "stream",
          "name": "stdout",
          "text": [
            "Sum of all prime numbers in L: 0\n"
          ]
        }
      ]
    },
    {
      "cell_type": "code",
      "source": [
        "# (xi) Clear all the elements in L\n",
        "L.clear()\n",
        "print(\"List after clearing all elements:\", L)"
      ],
      "metadata": {
        "colab": {
          "base_uri": "https://localhost:8080/"
        },
        "id": "n9qImwIDVNda",
        "outputId": "0f860edd-4705-459a-e5d8-0c2085d06b4c"
      },
      "execution_count": 17,
      "outputs": [
        {
          "output_type": "stream",
          "name": "stdout",
          "text": [
            "List after clearing all elements: []\n"
          ]
        }
      ]
    },
    {
      "cell_type": "code",
      "source": [
        "# (xii) Delete L\n",
        "del L\n",
        "try:\n",
        "    print(L)\n",
        "except NameError:\n",
        "    print(\"L is deleted.\")"
      ],
      "metadata": {
        "colab": {
          "base_uri": "https://localhost:8080/"
        },
        "id": "YvkPqfZVVV8X",
        "outputId": "1d860171-0d7c-49a3-a32f-6ff521fbb243"
      },
      "execution_count": 18,
      "outputs": [
        {
          "output_type": "stream",
          "name": "stdout",
          "text": [
            "L is deleted.\n"
          ]
        }
      ]
    },
    {
      "cell_type": "code",
      "source": [],
      "metadata": {
        "id": "Ebrayra2VYRX"
      },
      "execution_count": null,
      "outputs": []
    }
  ]
}